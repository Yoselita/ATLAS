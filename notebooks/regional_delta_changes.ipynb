{
 "cells": [
  {
   "cell_type": "markdown",
   "metadata": {},
   "source": [
    "# Illustrative example for computing and visualizing mean delta changes from regionally aggregated data "
   ]
  },
  {
   "cell_type": "markdown",
   "metadata": {},
   "source": [
    "The only REQUIREMENTS to reproduce this example are:\n",
    " - R \n",
    " - R packages magrittr and httr"
   ]
  },
  {
   "cell_type": "markdown",
   "metadata": {},
   "source": [
    "First we need to load the packages and the function to run the script:"
   ]
  },
  {
   "cell_type": "code",
   "execution_count": 27,
   "metadata": {},
   "outputs": [],
   "source": [
    "## The package magrittr is used to pipe (%>%) sequences of data operations improving readability\n",
    "#install.packages(\"magrittr\")\n",
    "library(magrittr)\n",
    "## The package httr is used towork with URLs and HTTP\n",
    "#install.packages(\"httr\")\n",
    "library(httr)\n",
    "\n",
    "# Function computeDeltas (available at this repo is used) to compute the mean delta changes:\n",
    "source(\"https://raw.githubusercontent.com/SantanderMetGroup/ATLAS/devel/aggregated-datasets/scripts/computeDeltas.R\")\n"
   ]
  },
  {
   "cell_type": "markdown",
   "metadata": {},
   "source": [
    "Select season, baseline period (ref.period), future periods (periods), area and scenario (experiment):"
   ]
  },
  {
   "cell_type": "code",
   "execution_count": 11,
   "metadata": {},
   "outputs": [],
   "source": [
    "### SET ARGUMENTS -----------------------------\n",
    "\n",
    "# select season, use c(12,1,2) for winter\n",
    "season <- 1:12 \n",
    "# select reference period\n",
    "ref.period <- 1850:1900\n",
    "# select warming levels or list of future periods, e.g. list(c(2021, 2040), c(2041, 2060), c(2081, 2100))\n",
    "periods <- c(\"1.5\", \"2\", \"3\", \"4\")\n",
    "# select the area, i.e. \"land\", \"sea\" or \"landsea\"\n",
    "area <- \"landsea\"\n",
    "# select scenario, i.e. \"rcp26\", \"rcp45\", \"rcp85\" (select a single scenario for computing WLs)\n",
    "experiment <- \"rcp85\"\n"
   ]
  },
  {
   "cell_type": "markdown",
   "metadata": {},
   "source": [
    "## CMIP5 temperature\n",
    "In the first example we will consider CMIP5 temperature data, therefore we also set arguments `project` and `var` accordingly."
   ]
  },
  {
   "cell_type": "code",
   "execution_count": 12,
   "metadata": {},
   "outputs": [],
   "source": [
    "\n",
    "# Set parameters to calculate mean delta changes for CMIP5 temperature (\"tas\"):\n",
    "# select project \"CMIP5\", \"CMIP6\" (\"CORDEX\" will be available soon)\n",
    "project = \"CMIP5\"\n",
    "# select variable, i.e. \"tas\" or \"pr\"\n",
    "var <- \"tas\"\n"
   ]
  },
  {
   "cell_type": "markdown",
   "metadata": {},
   "source": [
    "To calculate mean delta changes the `computeDelta` function is used with the already set parameters."
   ]
  },
  {
   "cell_type": "code",
   "execution_count": null,
   "metadata": {},
   "outputs": [],
   "source": [
    "WL.cmip5.tas <- computeDeltas(project, var, experiment, season, ref.period, periods, area)"
   ]
  },
  {
   "cell_type": "markdown",
   "metadata": {},
   "source": [
    "The result is a `list` of `data.frames` for all reference regions:"
   ]
  },
  {
   "cell_type": "code",
   "execution_count": 14,
   "metadata": {},
   "outputs": [
    {
     "data": {
      "text/html": [
       "<style>\n",
       ".list-inline {list-style: none; margin:0; padding: 0}\n",
       ".list-inline>li {display: inline-block}\n",
       ".list-inline>li:not(:last-child)::after {content: \"\\00b7\"; padding: 0 .5ex}\n",
       "</style>\n",
       "<ol class=list-inline><li>'GIC'</li><li>'NWN'</li><li>'NEN'</li><li>'WNA'</li><li>'CNA'</li><li>'ENA'</li><li>'NCA'</li><li>'SCA'</li><li>'CAR'</li><li>'NWS'</li><li>'NSA'</li><li>'NES'</li><li>'SAM'</li><li>'SWS'</li><li>'SES'</li><li>'SSA'</li><li>'NEU'</li><li>'WCE'</li><li>'EEU'</li><li>'MED'</li><li>'SAH'</li><li>'WAF'</li><li>'CAF'</li><li>'NEAF'</li><li>'SEAF'</li><li>'WSAF'</li><li>'ESAF'</li><li>'MDG'</li><li>'RAR'</li><li>'WSB'</li><li>'ESB'</li><li>'RFE'</li><li>'WCA'</li><li>'ECA'</li><li>'TIB'</li><li>'EAS'</li><li>'ARP'</li><li>'SAS'</li><li>'SEA'</li><li>'NAU'</li><li>'CAU'</li><li>'EAU'</li><li>'SAU'</li><li>'NZ'</li><li>'EAN'</li><li>'WAN'</li><li>'ARO'</li><li>'NPO'</li><li>'EPO'</li><li>'SPO'</li><li>'NAO'</li><li>'EAO'</li><li>'SAO'</li><li>'ARS'</li><li>'BOB'</li><li>'EIO'</li><li>'SIO'</li><li>'SOO'</li><li>'world'</li></ol>\n"
      ],
      "text/latex": [
       "\\begin{enumerate*}\n",
       "\\item 'GIC'\n",
       "\\item 'NWN'\n",
       "\\item 'NEN'\n",
       "\\item 'WNA'\n",
       "\\item 'CNA'\n",
       "\\item 'ENA'\n",
       "\\item 'NCA'\n",
       "\\item 'SCA'\n",
       "\\item 'CAR'\n",
       "\\item 'NWS'\n",
       "\\item 'NSA'\n",
       "\\item 'NES'\n",
       "\\item 'SAM'\n",
       "\\item 'SWS'\n",
       "\\item 'SES'\n",
       "\\item 'SSA'\n",
       "\\item 'NEU'\n",
       "\\item 'WCE'\n",
       "\\item 'EEU'\n",
       "\\item 'MED'\n",
       "\\item 'SAH'\n",
       "\\item 'WAF'\n",
       "\\item 'CAF'\n",
       "\\item 'NEAF'\n",
       "\\item 'SEAF'\n",
       "\\item 'WSAF'\n",
       "\\item 'ESAF'\n",
       "\\item 'MDG'\n",
       "\\item 'RAR'\n",
       "\\item 'WSB'\n",
       "\\item 'ESB'\n",
       "\\item 'RFE'\n",
       "\\item 'WCA'\n",
       "\\item 'ECA'\n",
       "\\item 'TIB'\n",
       "\\item 'EAS'\n",
       "\\item 'ARP'\n",
       "\\item 'SAS'\n",
       "\\item 'SEA'\n",
       "\\item 'NAU'\n",
       "\\item 'CAU'\n",
       "\\item 'EAU'\n",
       "\\item 'SAU'\n",
       "\\item 'NZ'\n",
       "\\item 'EAN'\n",
       "\\item 'WAN'\n",
       "\\item 'ARO'\n",
       "\\item 'NPO'\n",
       "\\item 'EPO'\n",
       "\\item 'SPO'\n",
       "\\item 'NAO'\n",
       "\\item 'EAO'\n",
       "\\item 'SAO'\n",
       "\\item 'ARS'\n",
       "\\item 'BOB'\n",
       "\\item 'EIO'\n",
       "\\item 'SIO'\n",
       "\\item 'SOO'\n",
       "\\item 'world'\n",
       "\\end{enumerate*}\n"
      ],
      "text/markdown": [
       "1. 'GIC'\n",
       "2. 'NWN'\n",
       "3. 'NEN'\n",
       "4. 'WNA'\n",
       "5. 'CNA'\n",
       "6. 'ENA'\n",
       "7. 'NCA'\n",
       "8. 'SCA'\n",
       "9. 'CAR'\n",
       "10. 'NWS'\n",
       "11. 'NSA'\n",
       "12. 'NES'\n",
       "13. 'SAM'\n",
       "14. 'SWS'\n",
       "15. 'SES'\n",
       "16. 'SSA'\n",
       "17. 'NEU'\n",
       "18. 'WCE'\n",
       "19. 'EEU'\n",
       "20. 'MED'\n",
       "21. 'SAH'\n",
       "22. 'WAF'\n",
       "23. 'CAF'\n",
       "24. 'NEAF'\n",
       "25. 'SEAF'\n",
       "26. 'WSAF'\n",
       "27. 'ESAF'\n",
       "28. 'MDG'\n",
       "29. 'RAR'\n",
       "30. 'WSB'\n",
       "31. 'ESB'\n",
       "32. 'RFE'\n",
       "33. 'WCA'\n",
       "34. 'ECA'\n",
       "35. 'TIB'\n",
       "36. 'EAS'\n",
       "37. 'ARP'\n",
       "38. 'SAS'\n",
       "39. 'SEA'\n",
       "40. 'NAU'\n",
       "41. 'CAU'\n",
       "42. 'EAU'\n",
       "43. 'SAU'\n",
       "44. 'NZ'\n",
       "45. 'EAN'\n",
       "46. 'WAN'\n",
       "47. 'ARO'\n",
       "48. 'NPO'\n",
       "49. 'EPO'\n",
       "50. 'SPO'\n",
       "51. 'NAO'\n",
       "52. 'EAO'\n",
       "53. 'SAO'\n",
       "54. 'ARS'\n",
       "55. 'BOB'\n",
       "56. 'EIO'\n",
       "57. 'SIO'\n",
       "58. 'SOO'\n",
       "59. 'world'\n",
       "\n",
       "\n"
      ],
      "text/plain": [
       " [1] \"GIC\"   \"NWN\"   \"NEN\"   \"WNA\"   \"CNA\"   \"ENA\"   \"NCA\"   \"SCA\"   \"CAR\"  \n",
       "[10] \"NWS\"   \"NSA\"   \"NES\"   \"SAM\"   \"SWS\"   \"SES\"   \"SSA\"   \"NEU\"   \"WCE\"  \n",
       "[19] \"EEU\"   \"MED\"   \"SAH\"   \"WAF\"   \"CAF\"   \"NEAF\"  \"SEAF\"  \"WSAF\"  \"ESAF\" \n",
       "[28] \"MDG\"   \"RAR\"   \"WSB\"   \"ESB\"   \"RFE\"   \"WCA\"   \"ECA\"   \"TIB\"   \"EAS\"  \n",
       "[37] \"ARP\"   \"SAS\"   \"SEA\"   \"NAU\"   \"CAU\"   \"EAU\"   \"SAU\"   \"NZ\"    \"EAN\"  \n",
       "[46] \"WAN\"   \"ARO\"   \"NPO\"   \"EPO\"   \"SPO\"   \"NAO\"   \"EAO\"   \"SAO\"   \"ARS\"  \n",
       "[55] \"BOB\"   \"EIO\"   \"SIO\"   \"SOO\"   \"world\""
      ]
     },
     "metadata": {},
     "output_type": "display_data"
    }
   ],
   "source": [
    "names(WL.cmip5.tas)"
   ]
  },
  {
   "cell_type": "markdown",
   "metadata": {},
   "source": [
    "Each slot of the `list` contains a `data.frame` of mean delta changes with model runs in rows and each future period/warming-level in columns, e.g.:"
   ]
  },
  {
   "cell_type": "code",
   "execution_count": 15,
   "metadata": {},
   "outputs": [
    {
     "data": {
      "text/html": [
       "<table>\n",
       "<caption>A matrix: 6 × 4 of type dbl</caption>\n",
       "<thead>\n",
       "\t<tr><th></th><th scope=col>rcp85</th><th scope=col>rcp85</th><th scope=col>rcp85</th><th scope=col>rcp85</th></tr>\n",
       "</thead>\n",
       "<tbody>\n",
       "\t<tr><th scope=row>ACCESS1-0_r1i1p1</th><td>2.691033</td><td>3.734229</td><td>5.503166</td><td>7.247841</td></tr>\n",
       "\t<tr><th scope=row>ACCESS1-3_r1i1p1</th><td>3.396157</td><td>4.274736</td><td>6.213986</td><td>8.695823</td></tr>\n",
       "\t<tr><th scope=row>bcc-csm1-1-m_r1i1p1</th><td>2.542902</td><td>3.822049</td><td>5.791845</td><td>7.468491</td></tr>\n",
       "\t<tr><th scope=row>bcc-csm1-1_r1i1p1</th><td>3.215060</td><td>4.790673</td><td>6.944943</td><td>8.944731</td></tr>\n",
       "\t<tr><th scope=row>CanESM2_r1i1p1</th><td>2.539118</td><td>3.318576</td><td>5.156897</td><td>6.890342</td></tr>\n",
       "\t<tr><th scope=row>CCSM4_r1i1p1</th><td>2.603593</td><td>3.010913</td><td>4.756375</td><td>6.089779</td></tr>\n",
       "</tbody>\n",
       "</table>\n"
      ],
      "text/latex": [
       "A matrix: 6 × 4 of type dbl\n",
       "\\begin{tabular}{r|llll}\n",
       "  & rcp85 & rcp85 & rcp85 & rcp85\\\\\n",
       "\\hline\n",
       "\tACCESS1-0\\_r1i1p1 & 2.691033 & 3.734229 & 5.503166 & 7.247841\\\\\n",
       "\tACCESS1-3\\_r1i1p1 & 3.396157 & 4.274736 & 6.213986 & 8.695823\\\\\n",
       "\tbcc-csm1-1-m\\_r1i1p1 & 2.542902 & 3.822049 & 5.791845 & 7.468491\\\\\n",
       "\tbcc-csm1-1\\_r1i1p1 & 3.215060 & 4.790673 & 6.944943 & 8.944731\\\\\n",
       "\tCanESM2\\_r1i1p1 & 2.539118 & 3.318576 & 5.156897 & 6.890342\\\\\n",
       "\tCCSM4\\_r1i1p1 & 2.603593 & 3.010913 & 4.756375 & 6.089779\\\\\n",
       "\\end{tabular}\n"
      ],
      "text/markdown": [
       "\n",
       "A matrix: 6 × 4 of type dbl\n",
       "\n",
       "| <!--/--> | rcp85 | rcp85 | rcp85 | rcp85 |\n",
       "|---|---|---|---|---|\n",
       "| ACCESS1-0_r1i1p1 | 2.691033 | 3.734229 | 5.503166 | 7.247841 |\n",
       "| ACCESS1-3_r1i1p1 | 3.396157 | 4.274736 | 6.213986 | 8.695823 |\n",
       "| bcc-csm1-1-m_r1i1p1 | 2.542902 | 3.822049 | 5.791845 | 7.468491 |\n",
       "| bcc-csm1-1_r1i1p1 | 3.215060 | 4.790673 | 6.944943 | 8.944731 |\n",
       "| CanESM2_r1i1p1 | 2.539118 | 3.318576 | 5.156897 | 6.890342 |\n",
       "| CCSM4_r1i1p1 | 2.603593 | 3.010913 | 4.756375 | 6.089779 |\n",
       "\n"
      ],
      "text/plain": [
       "                    rcp85    rcp85    rcp85    rcp85   \n",
       "ACCESS1-0_r1i1p1    2.691033 3.734229 5.503166 7.247841\n",
       "ACCESS1-3_r1i1p1    3.396157 4.274736 6.213986 8.695823\n",
       "bcc-csm1-1-m_r1i1p1 2.542902 3.822049 5.791845 7.468491\n",
       "bcc-csm1-1_r1i1p1   3.215060 4.790673 6.944943 8.944731\n",
       "CanESM2_r1i1p1      2.539118 3.318576 5.156897 6.890342\n",
       "CCSM4_r1i1p1        2.603593 3.010913 4.756375 6.089779"
      ]
     },
     "metadata": {},
     "output_type": "display_data"
    }
   ],
   "source": [
    "head(WL.cmip5.tas$GIC)"
   ]
  },
  {
   "cell_type": "markdown",
   "metadata": {},
   "source": [
    "If you are only interested in a subet of regions, you can retain them as follows."
   ]
  },
  {
   "cell_type": "code",
   "execution_count": 16,
   "metadata": {},
   "outputs": [
    {
     "name": "stdout",
     "output_type": "stream",
     "text": [
      "List of 4\n",
      " $ NEU: num [1:28, 1:4] 1.68 1.51 2.09 2.74 1.98 ...\n",
      "  ..- attr(*, \"dimnames\")=List of 2\n",
      "  .. ..$ : chr [1:28] \"ACCESS1-0_r1i1p1\" \"ACCESS1-3_r1i1p1\" \"bcc-csm1-1-m_r1i1p1\" \"bcc-csm1-1_r1i1p1\" ...\n",
      "  .. ..$ : chr [1:4] \"rcp85\" \"rcp85\" \"rcp85\" \"rcp85\"\n",
      " $ WCE: num [1:28, 1:4] 2.2 1.83 1.4 1.85 1.6 ...\n",
      "  ..- attr(*, \"dimnames\")=List of 2\n",
      "  .. ..$ : chr [1:28] \"ACCESS1-0_r1i1p1\" \"ACCESS1-3_r1i1p1\" \"bcc-csm1-1-m_r1i1p1\" \"bcc-csm1-1_r1i1p1\" ...\n",
      "  .. ..$ : chr [1:4] \"rcp85\" \"rcp85\" \"rcp85\" \"rcp85\"\n",
      " $ MED: num [1:28, 1:4] 1.87 1.71 1.28 1.76 1.48 ...\n",
      "  ..- attr(*, \"dimnames\")=List of 2\n",
      "  .. ..$ : chr [1:28] \"ACCESS1-0_r1i1p1\" \"ACCESS1-3_r1i1p1\" \"bcc-csm1-1-m_r1i1p1\" \"bcc-csm1-1_r1i1p1\" ...\n",
      "  .. ..$ : chr [1:4] \"rcp85\" \"rcp85\" \"rcp85\" \"rcp85\"\n",
      " $ EEU: num [1:28, 1:4] 3.03 2.22 2.53 2.35 2.52 ...\n",
      "  ..- attr(*, \"dimnames\")=List of 2\n",
      "  .. ..$ : chr [1:28] \"ACCESS1-0_r1i1p1\" \"ACCESS1-3_r1i1p1\" \"bcc-csm1-1-m_r1i1p1\" \"bcc-csm1-1_r1i1p1\" ...\n",
      "  .. ..$ : chr [1:4] \"rcp85\" \"rcp85\" \"rcp85\" \"rcp85\"\n"
     ]
    }
   ],
   "source": [
    "# e.g. Europe regions\n",
    "myRegs <- c(\"NEU\", \"WCE\", \"MED\", \"EEU\")\n",
    "WL.cmip5.tas <- WL.cmip5.tas[myRegs]\n",
    "str(WL.cmip5.tas)"
   ]
  },
  {
   "cell_type": "markdown",
   "metadata": {},
   "source": [
    "Lets calculate the median and 10 and 90 percentiles of the multi-model with the base function `apply`:"
   ]
  },
  {
   "cell_type": "code",
   "execution_count": 17,
   "metadata": {},
   "outputs": [],
   "source": [
    "WLmediana.cmip5.tas <- lapply(WL.cmip5.tas, apply, 2, median, na.rm = T)\n",
    "WLp90.cmip5.tas <- lapply(WL.cmip5.tas, apply, 2, quantile, 0.9, na.rm = T)\n",
    "WLp10.cmip5.tas <- lapply(WL.cmip5.tas, apply, 2, quantile, 0.1, na.rm = T)"
   ]
  },
  {
   "cell_type": "markdown",
   "metadata": {},
   "source": [
    "Note that now there is only one row in each data.frame that correspondonds to the multi-model, e.g.:"
   ]
  },
  {
   "cell_type": "code",
   "execution_count": 18,
   "metadata": {},
   "outputs": [
    {
     "name": "stdout",
     "output_type": "stream",
     "text": [
      "List of 4\n",
      " $ NEU: Named num [1:4] 2.2 2.77 4.04 5.17\n",
      "  ..- attr(*, \"names\")= chr [1:4] \"rcp85\" \"rcp85\" \"rcp85\" \"rcp85\"\n",
      " $ WCE: Named num [1:4] 1.8 2.21 3.41 4.51\n",
      "  ..- attr(*, \"names\")= chr [1:4] \"rcp85\" \"rcp85\" \"rcp85\" \"rcp85\"\n",
      " $ MED: Named num [1:4] 1.75 2.31 3.48 4.72\n",
      "  ..- attr(*, \"names\")= chr [1:4] \"rcp85\" \"rcp85\" \"rcp85\" \"rcp85\"\n",
      " $ EEU: Named num [1:4] 2.49 3.13 4.62 6.14\n",
      "  ..- attr(*, \"names\")= chr [1:4] \"rcp85\" \"rcp85\" \"rcp85\" \"rcp85\"\n"
     ]
    }
   ],
   "source": [
    "str(WLmediana.cmip5.tas)"
   ]
  },
  {
   "cell_type": "markdown",
   "metadata": {},
   "source": [
    "Here is the simplest example of a first plot:"
   ]
  },
  {
   "cell_type": "code",
   "execution_count": 19,
   "metadata": {},
   "outputs": [
    {
     "data": {
      "image/png": "[encoded data removed]",
      "text/plain": [
       "Plot with title “MED”"
      ]
     },
     "metadata": {
      "image/png": {
       "height": 420,
       "width": 420
      }
     },
     "output_type": "display_data"
    }
   ],
   "source": [
    "plot(periods, WLmediana.cmip5.tas$MED, ylab = bquote(Delta*\"T(ºC)\"), main = \"MED\")\n",
    "segments(1:length(periods), WLp10.cmip5.tas$MED, 1:length(periods), WLp90.cmip5.tas$MED)"
   ]
  },
  {
   "cell_type": "markdown",
   "metadata": {},
   "source": [
    "## CMIP5 precipitation\n",
    "Here we repeat the operation but considering precipitation this time:"
   ]
  },
  {
   "cell_type": "code",
   "execution_count": null,
   "metadata": {},
   "outputs": [],
   "source": [
    "# Set parameters to calculate mean delta changes for CMIP5 precipitation (\"pr\"):\n",
    "# select project \"CMIP5\", \"CMIP6\" (\"CORDEX\" will be available soon)\n",
    "project = \"CMIP5\"\n",
    "# select variable, i.e. \"tas\" or \"pr\"\n",
    "var <- \"pr\"\n",
    "# select scenario, i.e. \"rcp26\", \"rcp45\", \"rcp85\" (select a single scenario for computing WLs)\n",
    "experiment <- \"rcp85\"\n",
    "\n",
    "WL.cmip5.pr <- computeDeltas(project, var, experiment, season, ref.period, periods, area)\n",
    "\n",
    "WL.cmip5.pr <- WL.cmip5.pr[myRegs]\n",
    "\n",
    "WLmediana.cmip5.pr <- lapply(WL.cmip5.pr, apply, 2, median, na.rm = T)\n",
    "WLp90.cmip5.pr <- lapply(WL.cmip5.pr, apply, 2, quantile, 0.9, na.rm = T)\n",
    "WLp10.cmip5.pr <- lapply(WL.cmip5.pr, apply, 2, quantile, 0.1, na.rm = T)\n"
   ]
  },
  {
   "cell_type": "markdown",
   "metadata": {},
   "source": [
    "## CMIP6\n",
    "Next we repeat the operation for CMIP6. For temperature first..."
   ]
  },
  {
   "cell_type": "code",
   "execution_count": null,
   "metadata": {},
   "outputs": [],
   "source": [
    "\n",
    "# Set parameters to calculate mean delta changes for CMIP6 temperature (\"tas\"):\n",
    "# select project \"CMIP5\", \"CMIP6\" (\"CORDEX\" will be available soon)\n",
    "project = \"CMIP6\"\n",
    "# select variable, i.e. \"tas\" or \"pr\"\n",
    "var <- \"tas\"\n",
    "# select scenario, i.e. \"ssp126\", \"ssp245\", \"ssp585\" (select a single scenario for computing WLs)\n",
    "experiment <- \"ssp585\"\n",
    "\n",
    "WL.cmip6.tas <- computeDeltas(project, var, experiment, season, ref.period, periods, area)\n",
    "\n",
    "WL.cmip6.tas <- WL.cmip6.tas[myRegs]\n",
    "\n",
    "WLmediana.cmip6.tas <- lapply(WL.cmip6.tas, apply, 2, median, na.rm = T)\n",
    "WLp90.cmip6.tas <- lapply(WL.cmip6.tas, apply, 2, quantile, 0.9, na.rm = T)\n",
    "WLp10.cmip6.tas <- lapply(WL.cmip6.tas, apply, 2, quantile, 0.1, na.rm = T)\n"
   ]
  },
  {
   "cell_type": "markdown",
   "metadata": {},
   "source": [
    "and precipitation finally:"
   ]
  },
  {
   "cell_type": "code",
   "execution_count": null,
   "metadata": {},
   "outputs": [],
   "source": [
    "# Set parameters to calculate mean delta changes for CMIP6 precipitation (\"pr\"):\n",
    "# select project \"CMIP5\", \"CMIP6\" (\"CORDEX\" will be available soon)\n",
    "project = \"CMIP6\"\n",
    "# select variable, i.e. \"tas\" or \"pr\"\n",
    "var <- \"pr\"\n",
    "# select scenario, i.e. \"ssp126\", \"ssp245\", \"ssp585\" (select a single scenario for computing WLs)\n",
    "experiment <- \"ssp585\"\n",
    "\n",
    "WL.cmip6.pr <- computeDeltas(project, var, experiment, season, ref.period, periods, area)\n",
    "\n",
    "WL.cmip6.pr <- WL.cmip6.pr[myRegs]\n",
    "\n",
    "WLmediana.cmip6.pr <- lapply(WL.cmip6.pr, apply, 2, median, na.rm = T)\n",
    "WLp90.cmip6.pr <- lapply(WL.cmip6.pr, apply, 2, quantile, 0.9, na.rm = T)\n",
    "WLp10.cmip6.pr <- lapply(WL.cmip6.pr, apply, 2, quantile, 0.1, na.rm = T)"
   ]
  },
  {
   "cell_type": "markdown",
   "metadata": {},
   "source": [
    "## Plot the results"
   ]
  },
  {
   "cell_type": "markdown",
   "metadata": {},
   "source": [
    "We select the same colors for the different warming levels for CMIP5 and CMIP6 but using transparency for the first."
   ]
  },
  {
   "cell_type": "code",
   "execution_count": null,
   "metadata": {},
   "outputs": [],
   "source": [
    "col1 <- c(rgb(0.55,0,0.55,0.5), rgb(1, 0.73, 0.06, 0.5),rgb(0, 0, 0, 0.5), rgb(0.5, 0.3, 0.16, 0.5))\n",
    "col2 <- c(rgb(0.55,0,0.55), rgb(1, 0.73, 0.06), rgb(0, 0, 0), rgb(0.5, 0.3, 0.16))"
   ]
  },
  {
   "cell_type": "markdown",
   "metadata": {},
   "source": [
    "And finally we plot the results:"
   ]
  },
  {
   "cell_type": "code",
   "execution_count": 24,
   "metadata": {},
   "outputs": [
    {
     "data": {
      "image/png": "[encoded data removed]",
      "text/plain": [
       "Plot with title “EEU”"
      ]
     },
     "metadata": {
      "image/png": {
       "height": 420,
       "width": 420
      }
     },
     "output_type": "display_data"
    }
   ],
   "source": [
    "par(mfrow = c(2, 2))\n",
    "for(i in myRegs) {\n",
    "  plot(WLmediana.cmip6.tas[[i]], WLmediana.cmip6.pr[[i]], pch = 21,\n",
    "       bg = rgb(1,0,0,0), col = rgb(1,0,0,0), \n",
    "       xlim = c(min(WLp10.cmip6.tas[[i]]), max(WLp90.cmip6.tas[[i]])),\n",
    "       ylim = c(min(WLp10.cmip6.pr[[i]]), max(WLp90.cmip6.pr[[i]])),\n",
    "       main = i,\n",
    "       xlab = bquote(Delta*\"T(ºC)\"), ylab = bquote(Delta*\"P(%)\"))\n",
    "  segments(WLp10.cmip6.tas[[i]], WLmediana.cmip6.pr[[i]], WLp90.cmip6.tas[[i]], WLmediana.cmip6.pr[[i]], col = col2, lwd = 4)\n",
    "  segments(WLmediana.cmip6.tas[[i]], WLp10.cmip6.pr[[i]], WLmediana.cmip6.tas[[i]], WLp90.cmip6.pr[[i]], col = col2, lwd = 4)\n",
    "  segments(min(WLp10.cmip6.tas[[i]]), 0, max(WLp90.cmip6.tas[[i]]), 0, lty = 3)\n",
    "  segments(WLp10.cmip5.tas[[i]], WLmediana.cmip5.pr[[i]], WLp90.cmip5.tas[[i]], WLmediana.cmip5.pr[[i]], col = col1, lwd = 4)\n",
    "  segments(WLmediana.cmip5.tas[[i]], WLp10.cmip5.pr[[i]], WLmediana.cmip5.tas[[i]], WLp90.cmip5.pr[[i]], col = col1, lwd = 4)\n",
    "  points(WLmediana.cmip6.tas[[i]], WLmediana.cmip6.pr[[i]], pch = 21, bg = col2, xlim = c(0, 7))\n",
    "  points(WLmediana.cmip5.tas[[i]], WLmediana.cmip5.pr[[i]], pch = 21, bg = col1, xlim = c(0, 7))\n",
    "}"
   ]
  }
 ],
 "metadata": {
  "kernelspec": {
   "display_name": "R",
   "language": "R",
   "name": "ir"
  },
  "language_info": {
   "codemirror_mode": "r",
   "file_extension": ".r",
   "mimetype": "text/x-r-source",
   "name": "R",
   "pygments_lexer": "r",
   "version": "3.6.3"
  }
 },
 "nbformat": 4,
 "nbformat_minor": 2
}
